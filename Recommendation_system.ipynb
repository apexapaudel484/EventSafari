{
 "cells": [
  {
   "cell_type": "code",
   "execution_count": 1,
   "id": "3a49dcdc",
   "metadata": {},
   "outputs": [],
   "source": [
    "import pandas as pd\n",
    "import numpy as np\n",
    "import sqlite3"
   ]
  },
  {
   "cell_type": "markdown",
   "id": "2dbd26a1",
   "metadata": {},
   "source": [
    "Establishing the connection with database. "
   ]
  },
  {
   "cell_type": "code",
   "execution_count": null,
   "id": "257b92e1",
   "metadata": {},
   "outputs": [],
   "source": [
    "conn = sqlite3.connect('your_database.db') #database name "
   ]
  },
  {
   "cell_type": "markdown",
   "id": "13546810",
   "metadata": {},
   "source": [
    "Imported the dataset of event from the database."
   ]
  },
  {
   "cell_type": "code",
   "execution_count": 2,
   "id": "1df74427",
   "metadata": {},
   "outputs": [],
   "source": [
    "query = \"SELECT * FROM your_table\" #selecting table\n",
    "data = pd.read_sql_query(query, conn)"
   ]
  },
  {
   "cell_type": "code",
   "execution_count": 3,
   "id": "a55f5bdb",
   "metadata": {},
   "outputs": [
    {
     "data": {
      "text/html": [
       "<div>\n",
       "<style scoped>\n",
       "    .dataframe tbody tr th:only-of-type {\n",
       "        vertical-align: middle;\n",
       "    }\n",
       "\n",
       "    .dataframe tbody tr th {\n",
       "        vertical-align: top;\n",
       "    }\n",
       "\n",
       "    .dataframe thead th {\n",
       "        text-align: right;\n",
       "    }\n",
       "</style>\n",
       "<table border=\"1\" class=\"dataframe\">\n",
       "  <thead>\n",
       "    <tr style=\"text-align: right;\">\n",
       "      <th></th>\n",
       "      <th>Unnamed: 0</th>\n",
       "      <th>Name</th>\n",
       "      <th>Price</th>\n",
       "      <th>Date_time</th>\n",
       "      <th>Location</th>\n",
       "      <th>About</th>\n",
       "    </tr>\n",
       "  </thead>\n",
       "  <tbody>\n",
       "    <tr>\n",
       "      <th>0</th>\n",
       "      <td>0</td>\n",
       "      <td>NEW YEARS EVE 5 HOURS PREMIUM OPEN BAR AT KATRA</td>\n",
       "      <td>From $32.64</td>\n",
       "      <td>December 31 · 9pm - January 1, 2024 · 4am EST</td>\n",
       "      <td>Katra</td>\n",
       "      <td>5 HOURS OF PREMIUM OPEN BARCHAMPAGNE TOAST AT ...</td>\n",
       "    </tr>\n",
       "    <tr>\n",
       "      <th>1</th>\n",
       "      <td>1</td>\n",
       "      <td>ROOFTOP WATCH PARTY | SUITE FOOD LOUNGE</td>\n",
       "      <td>Free</td>\n",
       "      <td>Saturday, December 30 · 3 - 9pm EST</td>\n",
       "      <td>Suite Food Lounge</td>\n",
       "      <td>Celebrity guest, live music by Atlanta's top D...</td>\n",
       "    </tr>\n",
       "    <tr>\n",
       "      <th>2</th>\n",
       "      <td>2</td>\n",
       "      <td>THE GREATEST SHOW ON EARTH REVEL ATLANTA</td>\n",
       "      <td>NaN</td>\n",
       "      <td>December 23 · 10pm - December 24 · 3am EST</td>\n",
       "      <td>REVEL ATLANTA</td>\n",
       "      <td>Join us every week at THE GREATEST SHOW ON EAR...</td>\n",
       "    </tr>\n",
       "    <tr>\n",
       "      <th>3</th>\n",
       "      <td>3</td>\n",
       "      <td>THE GREATEST NYE ON EARTH NEW YEARS EVE | REVE...</td>\n",
       "      <td>$0 – $100</td>\n",
       "      <td>Ends on Monday, January 1, 2024 · 3am EST</td>\n",
       "      <td>Revel</td>\n",
       "      <td>THE GREATEST NEW YEAR'S EVE ON EARTH 2024 | RE...</td>\n",
       "    </tr>\n",
       "    <tr>\n",
       "      <th>4</th>\n",
       "      <td>4</td>\n",
       "      <td>HANGOVER ROOFTOP BRUNCH AT SUITE LOUNGE</td>\n",
       "      <td>NaN</td>\n",
       "      <td>Monday, January 1, 2024 · 3 - 9pm EST</td>\n",
       "      <td>Suite Food Lounge</td>\n",
       "      <td>Welcome to the Hangover Rooftop Brunch at Suit...</td>\n",
       "    </tr>\n",
       "  </tbody>\n",
       "</table>\n",
       "</div>"
      ],
      "text/plain": [
       "   Unnamed: 0                                               Name        Price  \\\n",
       "0           0    NEW YEARS EVE 5 HOURS PREMIUM OPEN BAR AT KATRA  From $32.64   \n",
       "1           1            ROOFTOP WATCH PARTY | SUITE FOOD LOUNGE         Free   \n",
       "2           2           THE GREATEST SHOW ON EARTH REVEL ATLANTA          NaN   \n",
       "3           3  THE GREATEST NYE ON EARTH NEW YEARS EVE | REVE...    $0 – $100   \n",
       "4           4            HANGOVER ROOFTOP BRUNCH AT SUITE LOUNGE          NaN   \n",
       "\n",
       "                                       Date_time           Location  \\\n",
       "0  December 31 · 9pm - January 1, 2024 · 4am EST              Katra   \n",
       "1            Saturday, December 30 · 3 - 9pm EST  Suite Food Lounge   \n",
       "2     December 23 · 10pm - December 24 · 3am EST      REVEL ATLANTA   \n",
       "3      Ends on Monday, January 1, 2024 · 3am EST              Revel   \n",
       "4          Monday, January 1, 2024 · 3 - 9pm EST  Suite Food Lounge   \n",
       "\n",
       "                                               About  \n",
       "0  5 HOURS OF PREMIUM OPEN BARCHAMPAGNE TOAST AT ...  \n",
       "1  Celebrity guest, live music by Atlanta's top D...  \n",
       "2  Join us every week at THE GREATEST SHOW ON EAR...  \n",
       "3  THE GREATEST NEW YEAR'S EVE ON EARTH 2024 | RE...  \n",
       "4  Welcome to the Hangover Rooftop Brunch at Suit...  "
      ]
     },
     "execution_count": 3,
     "metadata": {},
     "output_type": "execute_result"
    }
   ],
   "source": [
    "data.head()"
   ]
  },
  {
   "cell_type": "markdown",
   "id": "4fe5ce24",
   "metadata": {},
   "source": [
    "Checking if there is any null value in data."
   ]
  },
  {
   "cell_type": "code",
   "execution_count": 4,
   "id": "79dfc0e0",
   "metadata": {},
   "outputs": [
    {
     "data": {
      "text/plain": [
       "Unnamed: 0     0\n",
       "Name           0\n",
       "Price         43\n",
       "Date_time     38\n",
       "Location      36\n",
       "About         37\n",
       "dtype: int64"
      ]
     },
     "execution_count": 4,
     "metadata": {},
     "output_type": "execute_result"
    }
   ],
   "source": [
    "data.isnull().sum()"
   ]
  },
  {
   "cell_type": "markdown",
   "id": "0892b790",
   "metadata": {},
   "source": [
    "Dropping the null value and reseting the index."
   ]
  },
  {
   "cell_type": "code",
   "execution_count": 5,
   "id": "c0ad15e7",
   "metadata": {},
   "outputs": [],
   "source": [
    "data.dropna(inplace=True)\n",
    "data.reset_index(drop=True, inplace=True)"
   ]
  },
  {
   "cell_type": "markdown",
   "id": "bf2eb09e",
   "metadata": {},
   "source": [
    "Checking for duplicate data."
   ]
  },
  {
   "cell_type": "code",
   "execution_count": 6,
   "id": "b7e40c6e",
   "metadata": {},
   "outputs": [
    {
     "data": {
      "text/plain": [
       "0"
      ]
     },
     "execution_count": 6,
     "metadata": {},
     "output_type": "execute_result"
    }
   ],
   "source": [
    "data.duplicated().sum()"
   ]
  },
  {
   "cell_type": "code",
   "execution_count": 7,
   "id": "2e748a4f",
   "metadata": {},
   "outputs": [
    {
     "data": {
      "text/plain": [
       "(75, 6)"
      ]
     },
     "execution_count": 7,
     "metadata": {},
     "output_type": "execute_result"
    }
   ],
   "source": [
    "data.shape"
   ]
  },
  {
   "cell_type": "markdown",
   "id": "c3c0011a",
   "metadata": {},
   "source": [
    "Converting the data into list format."
   ]
  },
  {
   "cell_type": "code",
   "execution_count": 11,
   "id": "c37f8a0f",
   "metadata": {},
   "outputs": [],
   "source": [
    "data[\"event_description\"] = data[\"event_description\"].apply(lambda x:x.split())\n",
    "data['venue']=data['venue'].apply(lambda x:x.replace(\" \",\"\"))\n",
    "data['start_date']=data['start_date'].apply(lambda x:x.split())\n",
    "data['end_date']=data['end_date'].apply(lambda x:x.split())\n",
    "data['start_time']=data['start_time'].apply(lambda x:x.split())\n",
    "data['price']=data['price'].apply(lambda x:x.split())\n",
    "data['category']=data['category'].apply(lambda x:x.split())\n",
    "data['organizer']=data['organizer'].apply(lambda x:x.split())"
   ]
  },
  {
   "cell_type": "code",
   "execution_count": 12,
   "id": "9a28df1f",
   "metadata": {},
   "outputs": [
    {
     "data": {
      "text/html": [
       "<div>\n",
       "<style scoped>\n",
       "    .dataframe tbody tr th:only-of-type {\n",
       "        vertical-align: middle;\n",
       "    }\n",
       "\n",
       "    .dataframe tbody tr th {\n",
       "        vertical-align: top;\n",
       "    }\n",
       "\n",
       "    .dataframe thead th {\n",
       "        text-align: right;\n",
       "    }\n",
       "</style>\n",
       "<table border=\"1\" class=\"dataframe\">\n",
       "  <thead>\n",
       "    <tr style=\"text-align: right;\">\n",
       "      <th></th>\n",
       "      <th>Id</th>\n",
       "      <th>Name</th>\n",
       "      <th>Price</th>\n",
       "      <th>Date_time</th>\n",
       "      <th>Location</th>\n",
       "      <th>About</th>\n",
       "    </tr>\n",
       "  </thead>\n",
       "  <tbody>\n",
       "    <tr>\n",
       "      <th>0</th>\n",
       "      <td>0</td>\n",
       "      <td>NEW YEARS EVE 5 HOURS PREMIUM OPEN BAR AT KATRA</td>\n",
       "      <td>[From, $32.64]</td>\n",
       "      <td>[December, 31, ·, 9pm, -, January, 1,, 2024, ·...</td>\n",
       "      <td>[Katra]</td>\n",
       "      <td>[5, HOURS, OF, PREMIUM, OPEN, BARCHAMPAGNE, TO...</td>\n",
       "    </tr>\n",
       "    <tr>\n",
       "      <th>1</th>\n",
       "      <td>1</td>\n",
       "      <td>ROOFTOP WATCH PARTY | SUITE FOOD LOUNGE</td>\n",
       "      <td>[Free]</td>\n",
       "      <td>[Saturday,, December, 30, ·, 3, -, 9pm, EST]</td>\n",
       "      <td>[SuiteFoodLounge]</td>\n",
       "      <td>[Celebrity, guest,, live, music, by, Atlanta's...</td>\n",
       "    </tr>\n",
       "    <tr>\n",
       "      <th>2</th>\n",
       "      <td>2</td>\n",
       "      <td>THE GREATEST NYE ON EARTH NEW YEARS EVE | REVE...</td>\n",
       "      <td>[$0, –, $100]</td>\n",
       "      <td>[Ends, on, Monday,, January, 1,, 2024, ·, 3am,...</td>\n",
       "      <td>[Revel]</td>\n",
       "      <td>[THE, GREATEST, NEW, YEAR'S, EVE, ON, EARTH, 2...</td>\n",
       "    </tr>\n",
       "    <tr>\n",
       "      <th>3</th>\n",
       "      <td>3</td>\n",
       "      <td>New Year's Eve Party 2024 at Hilton Chicago wi...</td>\n",
       "      <td>[$20, –, $3,000]</td>\n",
       "      <td>[December, 31, ·, 9pm, -, January, 1,, 2024, ·...</td>\n",
       "      <td>[HiltonChicago]</td>\n",
       "      <td>[Ring, in, NYE, 2024, at, the, Hilton, Chicago...</td>\n",
       "    </tr>\n",
       "    <tr>\n",
       "      <th>4</th>\n",
       "      <td>4</td>\n",
       "      <td>Jim Irsay Collection Exhibit &amp; Concert, Los An...</td>\n",
       "      <td>[Free]</td>\n",
       "      <td>[Thursday,, January, 11,, 2024, ·, 6:30, -, 10...</td>\n",
       "      <td>[ShrineAuditoriumandExpoHall]</td>\n",
       "      <td>[Jim, Irsay’s, world-renowned, collection—a, t...</td>\n",
       "    </tr>\n",
       "  </tbody>\n",
       "</table>\n",
       "</div>"
      ],
      "text/plain": [
       "   Id                                               Name             Price  \\\n",
       "0   0    NEW YEARS EVE 5 HOURS PREMIUM OPEN BAR AT KATRA    [From, $32.64]   \n",
       "1   1            ROOFTOP WATCH PARTY | SUITE FOOD LOUNGE            [Free]   \n",
       "2   2  THE GREATEST NYE ON EARTH NEW YEARS EVE | REVE...     [$0, –, $100]   \n",
       "3   3  New Year's Eve Party 2024 at Hilton Chicago wi...  [$20, –, $3,000]   \n",
       "4   4  Jim Irsay Collection Exhibit & Concert, Los An...            [Free]   \n",
       "\n",
       "                                           Date_time  \\\n",
       "0  [December, 31, ·, 9pm, -, January, 1,, 2024, ·...   \n",
       "1       [Saturday,, December, 30, ·, 3, -, 9pm, EST]   \n",
       "2  [Ends, on, Monday,, January, 1,, 2024, ·, 3am,...   \n",
       "3  [December, 31, ·, 9pm, -, January, 1,, 2024, ·...   \n",
       "4  [Thursday,, January, 11,, 2024, ·, 6:30, -, 10...   \n",
       "\n",
       "                        Location  \\\n",
       "0                        [Katra]   \n",
       "1              [SuiteFoodLounge]   \n",
       "2                        [Revel]   \n",
       "3                [HiltonChicago]   \n",
       "4  [ShrineAuditoriumandExpoHall]   \n",
       "\n",
       "                                               About  \n",
       "0  [5, HOURS, OF, PREMIUM, OPEN, BARCHAMPAGNE, TO...  \n",
       "1  [Celebrity, guest,, live, music, by, Atlanta's...  \n",
       "2  [THE, GREATEST, NEW, YEAR'S, EVE, ON, EARTH, 2...  \n",
       "3  [Ring, in, NYE, 2024, at, the, Hilton, Chicago...  \n",
       "4  [Jim, Irsay’s, world-renowned, collection—a, t...  "
      ]
     },
     "execution_count": 12,
     "metadata": {},
     "output_type": "execute_result"
    }
   ],
   "source": [
    "data.head()"
   ]
  },
  {
   "cell_type": "code",
   "execution_count": 13,
   "id": "7250bebe",
   "metadata": {},
   "outputs": [
    {
     "data": {
      "text/html": [
       "<div>\n",
       "<style scoped>\n",
       "    .dataframe tbody tr th:only-of-type {\n",
       "        vertical-align: middle;\n",
       "    }\n",
       "\n",
       "    .dataframe tbody tr th {\n",
       "        vertical-align: top;\n",
       "    }\n",
       "\n",
       "    .dataframe thead th {\n",
       "        text-align: right;\n",
       "    }\n",
       "</style>\n",
       "<table border=\"1\" class=\"dataframe\">\n",
       "  <thead>\n",
       "    <tr style=\"text-align: right;\">\n",
       "      <th></th>\n",
       "      <th>Id</th>\n",
       "      <th>Name</th>\n",
       "      <th>Price</th>\n",
       "      <th>Date_time</th>\n",
       "      <th>Location</th>\n",
       "      <th>About</th>\n",
       "    </tr>\n",
       "  </thead>\n",
       "  <tbody>\n",
       "    <tr>\n",
       "      <th>18</th>\n",
       "      <td>18</td>\n",
       "      <td>MIDNIGHT SOIRÉE New Year's Eve Party, Presente...</td>\n",
       "      <td>[$110, –, $150]</td>\n",
       "      <td>[December, 31, ·, 9pm, -, January, 1,, 2024, ·...</td>\n",
       "      <td>[InknIvy]</td>\n",
       "      <td>[MIDNIGHT, SOIRÉEUPTOWN, CHARLOTTE'S, PREMIER,...</td>\n",
       "    </tr>\n",
       "    <tr>\n",
       "      <th>29</th>\n",
       "      <td>29</td>\n",
       "      <td>The EPIC Countdown NYE 2024  IN THE DOME | Lex...</td>\n",
       "      <td>[$30, –, $300]</td>\n",
       "      <td>[December, 31, ·, 8pm, -, January, 1,, 2024, ·...</td>\n",
       "      <td>[LexusVelodrome]</td>\n",
       "      <td>[SMOKE, PROMOTIONS, |, ULTIMATE, GROUP, |, PHA...</td>\n",
       "    </tr>\n",
       "    <tr>\n",
       "      <th>42</th>\n",
       "      <td>42</td>\n",
       "      <td>New Years Eve at Resurgence Brewing Co.!</td>\n",
       "      <td>[$87.21]</td>\n",
       "      <td>[December, 31, ·, 9pm, -, January, 1,, 2024, ·...</td>\n",
       "      <td>[ResurgenceBrewingCompany]</td>\n",
       "      <td>[You, won’t, want, to, miss, out, on, this, pr...</td>\n",
       "    </tr>\n",
       "    <tr>\n",
       "      <th>69</th>\n",
       "      <td>69</td>\n",
       "      <td>Rebecca Ross with Roshani Chokshi - Ruthless V...</td>\n",
       "      <td>[Free]</td>\n",
       "      <td>[Starts, on, Tuesday,, January, 2,, 2024, ·, 7...</td>\n",
       "      <td>[FirstBaptistChurchofDecatur]</td>\n",
       "      <td>[If, you, or, a, loved, one, have, been, perso...</td>\n",
       "    </tr>\n",
       "    <tr>\n",
       "      <th>71</th>\n",
       "      <td>71</td>\n",
       "      <td>Philly Chocolate, Wine &amp; Whiskey Festival 2024</td>\n",
       "      <td>[$69, –, $90]</td>\n",
       "      <td>[Saturday,, February, 3,, 2024, ·, 11:30am, -,...</td>\n",
       "      <td>[PhillyExpoCenter]</td>\n",
       "      <td>[*Hey, Philly, -, You're, Chocolateest, Festiv...</td>\n",
       "    </tr>\n",
       "    <tr>\n",
       "      <th>6</th>\n",
       "      <td>6</td>\n",
       "      <td>Chicago New Year's Eve Bar Crawl in Wrigleyville</td>\n",
       "      <td>[From, $29.99]</td>\n",
       "      <td>[December, 31, ·, 7pm, -, January, 1,, 2024, ·...</td>\n",
       "      <td>[Wrigleyville'sBestBars]</td>\n",
       "      <td>[Earn, a, FREE, Ticket, &amp;, Some, Holiday, Cash...</td>\n",
       "    </tr>\n",
       "  </tbody>\n",
       "</table>\n",
       "</div>"
      ],
      "text/plain": [
       "    Id                                               Name            Price  \\\n",
       "18  18  MIDNIGHT SOIRÉE New Year's Eve Party, Presente...  [$110, –, $150]   \n",
       "29  29  The EPIC Countdown NYE 2024  IN THE DOME | Lex...   [$30, –, $300]   \n",
       "42  42           New Years Eve at Resurgence Brewing Co.!         [$87.21]   \n",
       "69  69  Rebecca Ross with Roshani Chokshi - Ruthless V...           [Free]   \n",
       "71  71     Philly Chocolate, Wine & Whiskey Festival 2024    [$69, –, $90]   \n",
       "6    6   Chicago New Year's Eve Bar Crawl in Wrigleyville   [From, $29.99]   \n",
       "\n",
       "                                            Date_time  \\\n",
       "18  [December, 31, ·, 9pm, -, January, 1,, 2024, ·...   \n",
       "29  [December, 31, ·, 8pm, -, January, 1,, 2024, ·...   \n",
       "42  [December, 31, ·, 9pm, -, January, 1,, 2024, ·...   \n",
       "69  [Starts, on, Tuesday,, January, 2,, 2024, ·, 7...   \n",
       "71  [Saturday,, February, 3,, 2024, ·, 11:30am, -,...   \n",
       "6   [December, 31, ·, 7pm, -, January, 1,, 2024, ·...   \n",
       "\n",
       "                         Location  \\\n",
       "18                      [InknIvy]   \n",
       "29               [LexusVelodrome]   \n",
       "42     [ResurgenceBrewingCompany]   \n",
       "69  [FirstBaptistChurchofDecatur]   \n",
       "71             [PhillyExpoCenter]   \n",
       "6        [Wrigleyville'sBestBars]   \n",
       "\n",
       "                                                About  \n",
       "18  [MIDNIGHT, SOIRÉEUPTOWN, CHARLOTTE'S, PREMIER,...  \n",
       "29  [SMOKE, PROMOTIONS, |, ULTIMATE, GROUP, |, PHA...  \n",
       "42  [You, won’t, want, to, miss, out, on, this, pr...  \n",
       "69  [If, you, or, a, loved, one, have, been, perso...  \n",
       "71  [*Hey, Philly, -, You're, Chocolateest, Festiv...  \n",
       "6   [Earn, a, FREE, Ticket, &, Some, Holiday, Cash...  "
      ]
     },
     "execution_count": 13,
     "metadata": {},
     "output_type": "execute_result"
    }
   ],
   "source": [
    "data.sample(6)"
   ]
  },
  {
   "cell_type": "markdown",
   "id": "1041061b",
   "metadata": {},
   "source": [
    "Creating the tag from those list."
   ]
  },
  {
   "cell_type": "code",
   "execution_count": 14,
   "id": "b9d8e8d9",
   "metadata": {},
   "outputs": [
    {
     "data": {
      "text/html": [
       "<div>\n",
       "<style scoped>\n",
       "    .dataframe tbody tr th:only-of-type {\n",
       "        vertical-align: middle;\n",
       "    }\n",
       "\n",
       "    .dataframe tbody tr th {\n",
       "        vertical-align: top;\n",
       "    }\n",
       "\n",
       "    .dataframe thead th {\n",
       "        text-align: right;\n",
       "    }\n",
       "</style>\n",
       "<table border=\"1\" class=\"dataframe\">\n",
       "  <thead>\n",
       "    <tr style=\"text-align: right;\">\n",
       "      <th></th>\n",
       "      <th>Id</th>\n",
       "      <th>Name</th>\n",
       "      <th>Price</th>\n",
       "      <th>Date_time</th>\n",
       "      <th>Location</th>\n",
       "      <th>About</th>\n",
       "      <th>tag</th>\n",
       "    </tr>\n",
       "  </thead>\n",
       "  <tbody>\n",
       "    <tr>\n",
       "      <th>0</th>\n",
       "      <td>0</td>\n",
       "      <td>NEW YEARS EVE 5 HOURS PREMIUM OPEN BAR AT KATRA</td>\n",
       "      <td>[From, $32.64]</td>\n",
       "      <td>[December, 31, ·, 9pm, -, January, 1,, 2024, ·...</td>\n",
       "      <td>[Katra]</td>\n",
       "      <td>[5, HOURS, OF, PREMIUM, OPEN, BARCHAMPAGNE, TO...</td>\n",
       "      <td>[December, 31, ·, 9pm, -, January, 1,, 2024, ·...</td>\n",
       "    </tr>\n",
       "    <tr>\n",
       "      <th>1</th>\n",
       "      <td>1</td>\n",
       "      <td>ROOFTOP WATCH PARTY | SUITE FOOD LOUNGE</td>\n",
       "      <td>[Free]</td>\n",
       "      <td>[Saturday,, December, 30, ·, 3, -, 9pm, EST]</td>\n",
       "      <td>[SuiteFoodLounge]</td>\n",
       "      <td>[Celebrity, guest,, live, music, by, Atlanta's...</td>\n",
       "      <td>[Saturday,, December, 30, ·, 3, -, 9pm, EST, S...</td>\n",
       "    </tr>\n",
       "    <tr>\n",
       "      <th>2</th>\n",
       "      <td>2</td>\n",
       "      <td>THE GREATEST NYE ON EARTH NEW YEARS EVE | REVE...</td>\n",
       "      <td>[$0, –, $100]</td>\n",
       "      <td>[Ends, on, Monday,, January, 1,, 2024, ·, 3am,...</td>\n",
       "      <td>[Revel]</td>\n",
       "      <td>[THE, GREATEST, NEW, YEAR'S, EVE, ON, EARTH, 2...</td>\n",
       "      <td>[Ends, on, Monday,, January, 1,, 2024, ·, 3am,...</td>\n",
       "    </tr>\n",
       "    <tr>\n",
       "      <th>3</th>\n",
       "      <td>3</td>\n",
       "      <td>New Year's Eve Party 2024 at Hilton Chicago wi...</td>\n",
       "      <td>[$20, –, $3,000]</td>\n",
       "      <td>[December, 31, ·, 9pm, -, January, 1,, 2024, ·...</td>\n",
       "      <td>[HiltonChicago]</td>\n",
       "      <td>[Ring, in, NYE, 2024, at, the, Hilton, Chicago...</td>\n",
       "      <td>[December, 31, ·, 9pm, -, January, 1,, 2024, ·...</td>\n",
       "    </tr>\n",
       "    <tr>\n",
       "      <th>4</th>\n",
       "      <td>4</td>\n",
       "      <td>Jim Irsay Collection Exhibit &amp; Concert, Los An...</td>\n",
       "      <td>[Free]</td>\n",
       "      <td>[Thursday,, January, 11,, 2024, ·, 6:30, -, 10...</td>\n",
       "      <td>[ShrineAuditoriumandExpoHall]</td>\n",
       "      <td>[Jim, Irsay’s, world-renowned, collection—a, t...</td>\n",
       "      <td>[Thursday,, January, 11,, 2024, ·, 6:30, -, 10...</td>\n",
       "    </tr>\n",
       "    <tr>\n",
       "      <th>...</th>\n",
       "      <td>...</td>\n",
       "      <td>...</td>\n",
       "      <td>...</td>\n",
       "      <td>...</td>\n",
       "      <td>...</td>\n",
       "      <td>...</td>\n",
       "      <td>...</td>\n",
       "    </tr>\n",
       "    <tr>\n",
       "      <th>70</th>\n",
       "      <td>70</td>\n",
       "      <td>MACHEL MONTANO HOSTING RISE AND TOAST | MLK WE...</td>\n",
       "      <td>[$0, –, $35]</td>\n",
       "      <td>[Sunday,, January, 14,, 2024, ·, 12, -, 9pm, EST]</td>\n",
       "      <td>[TheUrban]</td>\n",
       "      <td>[@riseandtoastRISE, +, TOASTHOSTED, BY, MACHEL...</td>\n",
       "      <td>[Sunday,, January, 14,, 2024, ·, 12, -, 9pm, E...</td>\n",
       "    </tr>\n",
       "    <tr>\n",
       "      <th>71</th>\n",
       "      <td>71</td>\n",
       "      <td>Philly Chocolate, Wine &amp; Whiskey Festival 2024</td>\n",
       "      <td>[$69, –, $90]</td>\n",
       "      <td>[Saturday,, February, 3,, 2024, ·, 11:30am, -,...</td>\n",
       "      <td>[PhillyExpoCenter]</td>\n",
       "      <td>[*Hey, Philly, -, You're, Chocolateest, Festiv...</td>\n",
       "      <td>[Saturday,, February, 3,, 2024, ·, 11:30am, -,...</td>\n",
       "    </tr>\n",
       "    <tr>\n",
       "      <th>72</th>\n",
       "      <td>72</td>\n",
       "      <td>A New Years Eve Celebration with DJ Nala</td>\n",
       "      <td>[$79, –, $1,999]</td>\n",
       "      <td>[December, 31, ·, 9pm, -, January, 1,, 2024, ·...</td>\n",
       "      <td>[3001AbbotsburyDrive,CedarPark,TX,USA]</td>\n",
       "      <td>[🎉, Welcome, the, New, Year, in, Style, at, Au...</td>\n",
       "      <td>[December, 31, ·, 9pm, -, January, 1,, 2024, ·...</td>\n",
       "    </tr>\n",
       "    <tr>\n",
       "      <th>73</th>\n",
       "      <td>73</td>\n",
       "      <td>New Years Eve Celebration with the Vegas Cola ...</td>\n",
       "      <td>[$0, –, $85]</td>\n",
       "      <td>[December, 31, ·, 9:30pm, -, January, 1,, 2024...</td>\n",
       "      <td>[CafeNegril]</td>\n",
       "      <td>[Bring, in, 2024, with, legacy, musician, Vega...</td>\n",
       "      <td>[December, 31, ·, 9:30pm, -, January, 1,, 2024...</td>\n",
       "    </tr>\n",
       "    <tr>\n",
       "      <th>74</th>\n",
       "      <td>74</td>\n",
       "      <td>WINTER ZESS 2023</td>\n",
       "      <td>[$22, –, $52]</td>\n",
       "      <td>[December, 24, ·, 10pm, -, December, 25, ·, 3a...</td>\n",
       "      <td>[PacificBK]</td>\n",
       "      <td>[WINTER, ZESS!!!!, ZESS, ZESS, &amp;, MORE, ZESS,,...</td>\n",
       "      <td>[December, 24, ·, 10pm, -, December, 25, ·, 3a...</td>\n",
       "    </tr>\n",
       "  </tbody>\n",
       "</table>\n",
       "<p>75 rows × 7 columns</p>\n",
       "</div>"
      ],
      "text/plain": [
       "    Id                                               Name             Price  \\\n",
       "0    0    NEW YEARS EVE 5 HOURS PREMIUM OPEN BAR AT KATRA    [From, $32.64]   \n",
       "1    1            ROOFTOP WATCH PARTY | SUITE FOOD LOUNGE            [Free]   \n",
       "2    2  THE GREATEST NYE ON EARTH NEW YEARS EVE | REVE...     [$0, –, $100]   \n",
       "3    3  New Year's Eve Party 2024 at Hilton Chicago wi...  [$20, –, $3,000]   \n",
       "4    4  Jim Irsay Collection Exhibit & Concert, Los An...            [Free]   \n",
       "..  ..                                                ...               ...   \n",
       "70  70  MACHEL MONTANO HOSTING RISE AND TOAST | MLK WE...      [$0, –, $35]   \n",
       "71  71     Philly Chocolate, Wine & Whiskey Festival 2024     [$69, –, $90]   \n",
       "72  72           A New Years Eve Celebration with DJ Nala  [$79, –, $1,999]   \n",
       "73  73  New Years Eve Celebration with the Vegas Cola ...      [$0, –, $85]   \n",
       "74  74                                   WINTER ZESS 2023     [$22, –, $52]   \n",
       "\n",
       "                                            Date_time  \\\n",
       "0   [December, 31, ·, 9pm, -, January, 1,, 2024, ·...   \n",
       "1        [Saturday,, December, 30, ·, 3, -, 9pm, EST]   \n",
       "2   [Ends, on, Monday,, January, 1,, 2024, ·, 3am,...   \n",
       "3   [December, 31, ·, 9pm, -, January, 1,, 2024, ·...   \n",
       "4   [Thursday,, January, 11,, 2024, ·, 6:30, -, 10...   \n",
       "..                                                ...   \n",
       "70  [Sunday,, January, 14,, 2024, ·, 12, -, 9pm, EST]   \n",
       "71  [Saturday,, February, 3,, 2024, ·, 11:30am, -,...   \n",
       "72  [December, 31, ·, 9pm, -, January, 1,, 2024, ·...   \n",
       "73  [December, 31, ·, 9:30pm, -, January, 1,, 2024...   \n",
       "74  [December, 24, ·, 10pm, -, December, 25, ·, 3a...   \n",
       "\n",
       "                                  Location  \\\n",
       "0                                  [Katra]   \n",
       "1                        [SuiteFoodLounge]   \n",
       "2                                  [Revel]   \n",
       "3                          [HiltonChicago]   \n",
       "4            [ShrineAuditoriumandExpoHall]   \n",
       "..                                     ...   \n",
       "70                              [TheUrban]   \n",
       "71                      [PhillyExpoCenter]   \n",
       "72  [3001AbbotsburyDrive,CedarPark,TX,USA]   \n",
       "73                            [CafeNegril]   \n",
       "74                             [PacificBK]   \n",
       "\n",
       "                                                About  \\\n",
       "0   [5, HOURS, OF, PREMIUM, OPEN, BARCHAMPAGNE, TO...   \n",
       "1   [Celebrity, guest,, live, music, by, Atlanta's...   \n",
       "2   [THE, GREATEST, NEW, YEAR'S, EVE, ON, EARTH, 2...   \n",
       "3   [Ring, in, NYE, 2024, at, the, Hilton, Chicago...   \n",
       "4   [Jim, Irsay’s, world-renowned, collection—a, t...   \n",
       "..                                                ...   \n",
       "70  [@riseandtoastRISE, +, TOASTHOSTED, BY, MACHEL...   \n",
       "71  [*Hey, Philly, -, You're, Chocolateest, Festiv...   \n",
       "72  [🎉, Welcome, the, New, Year, in, Style, at, Au...   \n",
       "73  [Bring, in, 2024, with, legacy, musician, Vega...   \n",
       "74  [WINTER, ZESS!!!!, ZESS, ZESS, &, MORE, ZESS,,...   \n",
       "\n",
       "                                                  tag  \n",
       "0   [December, 31, ·, 9pm, -, January, 1,, 2024, ·...  \n",
       "1   [Saturday,, December, 30, ·, 3, -, 9pm, EST, S...  \n",
       "2   [Ends, on, Monday,, January, 1,, 2024, ·, 3am,...  \n",
       "3   [December, 31, ·, 9pm, -, January, 1,, 2024, ·...  \n",
       "4   [Thursday,, January, 11,, 2024, ·, 6:30, -, 10...  \n",
       "..                                                ...  \n",
       "70  [Sunday,, January, 14,, 2024, ·, 12, -, 9pm, E...  \n",
       "71  [Saturday,, February, 3,, 2024, ·, 11:30am, -,...  \n",
       "72  [December, 31, ·, 9pm, -, January, 1,, 2024, ·...  \n",
       "73  [December, 31, ·, 9:30pm, -, January, 1,, 2024...  \n",
       "74  [December, 24, ·, 10pm, -, December, 25, ·, 3a...  \n",
       "\n",
       "[75 rows x 7 columns]"
      ]
     },
     "execution_count": 14,
     "metadata": {},
     "output_type": "execute_result"
    }
   ],
   "source": [
    "data['tag']=data['category']+data['organizer']+data['start_date']+data['end_date']+data['start_time']+data['venue']+data['price']+data[\"event_description\"]\n",
    "data"
   ]
  },
  {
   "cell_type": "markdown",
   "id": "6c133979",
   "metadata": {},
   "source": [
    "Creating new dataframe."
   ]
  },
  {
   "cell_type": "code",
   "execution_count": 15,
   "id": "b92d5256",
   "metadata": {},
   "outputs": [
    {
     "data": {
      "text/html": [
       "<div>\n",
       "<style scoped>\n",
       "    .dataframe tbody tr th:only-of-type {\n",
       "        vertical-align: middle;\n",
       "    }\n",
       "\n",
       "    .dataframe tbody tr th {\n",
       "        vertical-align: top;\n",
       "    }\n",
       "\n",
       "    .dataframe thead th {\n",
       "        text-align: right;\n",
       "    }\n",
       "</style>\n",
       "<table border=\"1\" class=\"dataframe\">\n",
       "  <thead>\n",
       "    <tr style=\"text-align: right;\">\n",
       "      <th></th>\n",
       "      <th>Id</th>\n",
       "      <th>Name</th>\n",
       "      <th>tag</th>\n",
       "    </tr>\n",
       "  </thead>\n",
       "  <tbody>\n",
       "    <tr>\n",
       "      <th>0</th>\n",
       "      <td>0</td>\n",
       "      <td>NEW YEARS EVE 5 HOURS PREMIUM OPEN BAR AT KATRA</td>\n",
       "      <td>[December, 31, ·, 9pm, -, January, 1,, 2024, ·...</td>\n",
       "    </tr>\n",
       "    <tr>\n",
       "      <th>1</th>\n",
       "      <td>1</td>\n",
       "      <td>ROOFTOP WATCH PARTY | SUITE FOOD LOUNGE</td>\n",
       "      <td>[Saturday,, December, 30, ·, 3, -, 9pm, EST, S...</td>\n",
       "    </tr>\n",
       "    <tr>\n",
       "      <th>2</th>\n",
       "      <td>2</td>\n",
       "      <td>THE GREATEST NYE ON EARTH NEW YEARS EVE | REVE...</td>\n",
       "      <td>[Ends, on, Monday,, January, 1,, 2024, ·, 3am,...</td>\n",
       "    </tr>\n",
       "    <tr>\n",
       "      <th>3</th>\n",
       "      <td>3</td>\n",
       "      <td>New Year's Eve Party 2024 at Hilton Chicago wi...</td>\n",
       "      <td>[December, 31, ·, 9pm, -, January, 1,, 2024, ·...</td>\n",
       "    </tr>\n",
       "    <tr>\n",
       "      <th>4</th>\n",
       "      <td>4</td>\n",
       "      <td>Jim Irsay Collection Exhibit &amp; Concert, Los An...</td>\n",
       "      <td>[Thursday,, January, 11,, 2024, ·, 6:30, -, 10...</td>\n",
       "    </tr>\n",
       "    <tr>\n",
       "      <th>...</th>\n",
       "      <td>...</td>\n",
       "      <td>...</td>\n",
       "      <td>...</td>\n",
       "    </tr>\n",
       "    <tr>\n",
       "      <th>70</th>\n",
       "      <td>70</td>\n",
       "      <td>MACHEL MONTANO HOSTING RISE AND TOAST | MLK WE...</td>\n",
       "      <td>[Sunday,, January, 14,, 2024, ·, 12, -, 9pm, E...</td>\n",
       "    </tr>\n",
       "    <tr>\n",
       "      <th>71</th>\n",
       "      <td>71</td>\n",
       "      <td>Philly Chocolate, Wine &amp; Whiskey Festival 2024</td>\n",
       "      <td>[Saturday,, February, 3,, 2024, ·, 11:30am, -,...</td>\n",
       "    </tr>\n",
       "    <tr>\n",
       "      <th>72</th>\n",
       "      <td>72</td>\n",
       "      <td>A New Years Eve Celebration with DJ Nala</td>\n",
       "      <td>[December, 31, ·, 9pm, -, January, 1,, 2024, ·...</td>\n",
       "    </tr>\n",
       "    <tr>\n",
       "      <th>73</th>\n",
       "      <td>73</td>\n",
       "      <td>New Years Eve Celebration with the Vegas Cola ...</td>\n",
       "      <td>[December, 31, ·, 9:30pm, -, January, 1,, 2024...</td>\n",
       "    </tr>\n",
       "    <tr>\n",
       "      <th>74</th>\n",
       "      <td>74</td>\n",
       "      <td>WINTER ZESS 2023</td>\n",
       "      <td>[December, 24, ·, 10pm, -, December, 25, ·, 3a...</td>\n",
       "    </tr>\n",
       "  </tbody>\n",
       "</table>\n",
       "<p>75 rows × 3 columns</p>\n",
       "</div>"
      ],
      "text/plain": [
       "    Id                                               Name  \\\n",
       "0    0    NEW YEARS EVE 5 HOURS PREMIUM OPEN BAR AT KATRA   \n",
       "1    1            ROOFTOP WATCH PARTY | SUITE FOOD LOUNGE   \n",
       "2    2  THE GREATEST NYE ON EARTH NEW YEARS EVE | REVE...   \n",
       "3    3  New Year's Eve Party 2024 at Hilton Chicago wi...   \n",
       "4    4  Jim Irsay Collection Exhibit & Concert, Los An...   \n",
       "..  ..                                                ...   \n",
       "70  70  MACHEL MONTANO HOSTING RISE AND TOAST | MLK WE...   \n",
       "71  71     Philly Chocolate, Wine & Whiskey Festival 2024   \n",
       "72  72           A New Years Eve Celebration with DJ Nala   \n",
       "73  73  New Years Eve Celebration with the Vegas Cola ...   \n",
       "74  74                                   WINTER ZESS 2023   \n",
       "\n",
       "                                                  tag  \n",
       "0   [December, 31, ·, 9pm, -, January, 1,, 2024, ·...  \n",
       "1   [Saturday,, December, 30, ·, 3, -, 9pm, EST, S...  \n",
       "2   [Ends, on, Monday,, January, 1,, 2024, ·, 3am,...  \n",
       "3   [December, 31, ·, 9pm, -, January, 1,, 2024, ·...  \n",
       "4   [Thursday,, January, 11,, 2024, ·, 6:30, -, 10...  \n",
       "..                                                ...  \n",
       "70  [Sunday,, January, 14,, 2024, ·, 12, -, 9pm, E...  \n",
       "71  [Saturday,, February, 3,, 2024, ·, 11:30am, -,...  \n",
       "72  [December, 31, ·, 9pm, -, January, 1,, 2024, ·...  \n",
       "73  [December, 31, ·, 9:30pm, -, January, 1,, 2024...  \n",
       "74  [December, 24, ·, 10pm, -, December, 25, ·, 3a...  \n",
       "\n",
       "[75 rows x 3 columns]"
      ]
     },
     "execution_count": 15,
     "metadata": {},
     "output_type": "execute_result"
    }
   ],
   "source": [
    "df = data[[\"Id\",\"Name\",\"tag\"]]\n",
    "df"
   ]
  },
  {
   "cell_type": "markdown",
   "id": "de4554c6",
   "metadata": {},
   "source": [
    "Removing the \" , \" between the tags."
   ]
  },
  {
   "cell_type": "code",
   "execution_count": 16,
   "id": "10dde986",
   "metadata": {},
   "outputs": [
    {
     "name": "stderr",
     "output_type": "stream",
     "text": [
      "/tmp/ipykernel_163254/2273421580.py:1: SettingWithCopyWarning: \n",
      "A value is trying to be set on a copy of a slice from a DataFrame.\n",
      "Try using .loc[row_indexer,col_indexer] = value instead\n",
      "\n",
      "See the caveats in the documentation: https://pandas.pydata.org/pandas-docs/stable/user_guide/indexing.html#returning-a-view-versus-a-copy\n",
      "  df['tag']=df['tag'].apply(lambda x:\" \".join(x))\n"
     ]
    }
   ],
   "source": [
    "df['tag']=df['tag'].apply(lambda x:\" \".join(x))"
   ]
  },
  {
   "cell_type": "code",
   "execution_count": 17,
   "id": "4f22e23c",
   "metadata": {},
   "outputs": [
    {
     "data": {
      "text/plain": [
       "'December 31 · 9pm - January 1, 2024 · 4am EST Katra From $32.64 5 HOURS OF PREMIUM OPEN BARCHAMPAGNE TOAST AT MIDNIGHTAT The Luxurious Katra NYCSUNDAY DECEMBER 31st217 Bowery btwn Prince & Rivington StreetBoasting 2 Unique, Fun-Filled Floors,This Is What You Call The ULTIMATE New Year’s Eve Entertainment At It’s Best Hit the dance floor as a DJ spins the latest Top 40, Hip-Hop, Reggae, Trap & More!-TICKET STARTS AT $595 HOURS OF PREMIUM OPEN BAR! Appetizers | Party Favors. - Complimentary champagne toast at midnight - Complimentary festive NYE party favors -TICKETS START AT $29 Admission To The Venue AFTER 12:30 AM1 HOUR and 1/2 OF PREMIUM OPEN BAR!VIP bottle packages:2 Bottles for $700 ++ includes entrance for 4 people3 bottles for $1050 ++ includes entrance for 6 people4 bottles for $1,400 ++ includes entrance for 8 people5 bottles for $1,750 ++ includes entrance for 10 peopleFor information :212-651-9069 DRESS CODEMandatory Sexy & ChicNO T-Shirts, Hats, Boots or Athletic Wear AllowedCollared Shirts Mandatory for Gents Designer Sneakers Allowed If Worn In Good TasteHeels Mandatory for Ladies Doors Open 9pm | 21+ ID RequiredRefund PolicyNo refunds at any time.Upcoming special Event :Festopia Memorial Day Weekend Dominican Republicwww.festopia.com'"
      ]
     },
     "execution_count": 17,
     "metadata": {},
     "output_type": "execute_result"
    }
   ],
   "source": [
    "df['tag'][0]"
   ]
  },
  {
   "cell_type": "code",
   "execution_count": 18,
   "id": "788a4974",
   "metadata": {},
   "outputs": [],
   "source": [
    "#!pip install nltk"
   ]
  },
  {
   "cell_type": "code",
   "execution_count": 19,
   "id": "47ced44b",
   "metadata": {},
   "outputs": [
    {
     "name": "stderr",
     "output_type": "stream",
     "text": [
      "/usr/lib/python3/dist-packages/scipy/__init__.py:146: UserWarning: A NumPy version >=1.17.3 and <1.25.0 is required for this version of SciPy (detected version 1.25.2\n",
      "  warnings.warn(f\"A NumPy version >={np_minversion} and <{np_maxversion}\"\n"
     ]
    }
   ],
   "source": [
    "import nltk\n",
    "from nltk.stem.porter import PorterStemmer\n",
    "ps=PorterStemmer()"
   ]
  },
  {
   "cell_type": "markdown",
   "id": "4b8268de",
   "metadata": {},
   "source": [
    "Stemming the data to obtain the root form."
   ]
  },
  {
   "cell_type": "code",
   "execution_count": 20,
   "id": "adc16a87",
   "metadata": {},
   "outputs": [],
   "source": [
    "def stem(text):\n",
    "    y=[]\n",
    "    for i in text.split():\n",
    "        y.append(ps.stem(i))\n",
    "        \n",
    "    return \" \".join(y)"
   ]
  },
  {
   "cell_type": "code",
   "execution_count": 21,
   "id": "763758a9",
   "metadata": {},
   "outputs": [
    {
     "data": {
      "text/plain": [
       "0     decemb 31 · 9pm - januari 1, 2024 · 4am est ka...\n",
       "1     saturday, decemb 30 · 3 - 9pm est suitefoodlou...\n",
       "2     end on monday, januari 1, 2024 · 3am est revel...\n",
       "3     decemb 31 · 9pm - januari 1, 2024 · 2am cst hi...\n",
       "4     thursday, januari 11, 2024 · 6:30 - 10:30pm ps...\n",
       "                            ...                        \n",
       "70    sunday, januari 14, 2024 · 12 - 9pm est theurb...\n",
       "71    saturday, februari 3, 2024 · 11:30am - 9pm est...\n",
       "72    decemb 31 · 9pm - januari 1, 2024 · 3am cst 30...\n",
       "73    decemb 31 · 9:30pm - januari 1, 2024 · 12:30am...\n",
       "74    decemb 24 · 10pm - decemb 25 · 3am est pacific...\n",
       "Name: tag, Length: 75, dtype: object"
      ]
     },
     "execution_count": 21,
     "metadata": {},
     "output_type": "execute_result"
    }
   ],
   "source": [
    "df['tag'].apply(stem)"
   ]
  },
  {
   "cell_type": "markdown",
   "id": "c7d557b1",
   "metadata": {},
   "source": [
    "Text vectorization."
   ]
  },
  {
   "cell_type": "markdown",
   "id": "aca7894b",
   "metadata": {},
   "source": [
    "Taking 5000 words from the tags concatenated from each events removing the words like a, the."
   ]
  },
  {
   "cell_type": "code",
   "execution_count": 22,
   "id": "faf9482a",
   "metadata": {},
   "outputs": [],
   "source": [
    "import sklearn\n",
    "from sklearn.feature_extraction.text import CountVectorizer\n",
    "cv = CountVectorizer(max_features=5000 , stop_words=\"english\")"
   ]
  },
  {
   "cell_type": "markdown",
   "id": "5e269ee7",
   "metadata": {},
   "source": [
    "Converting numpy value into array."
   ]
  },
  {
   "cell_type": "code",
   "execution_count": 23,
   "id": "592b151f",
   "metadata": {},
   "outputs": [],
   "source": [
    "vectors = cv.fit_transform(df['tag']).toarray()"
   ]
  },
  {
   "cell_type": "code",
   "execution_count": 24,
   "id": "60f61dee",
   "metadata": {},
   "outputs": [
    {
     "data": {
      "text/plain": [
       "array([[0, 0, 0, ..., 0, 0, 0],\n",
       "       [0, 0, 0, ..., 0, 0, 0],\n",
       "       [0, 0, 0, ..., 0, 0, 0],\n",
       "       ...,\n",
       "       [0, 0, 0, ..., 0, 0, 0],\n",
       "       [0, 0, 0, ..., 0, 0, 0],\n",
       "       [0, 0, 0, ..., 0, 0, 0]])"
      ]
     },
     "execution_count": 24,
     "metadata": {},
     "output_type": "execute_result"
    }
   ],
   "source": [
    "vectors"
   ]
  },
  {
   "cell_type": "code",
   "execution_count": 25,
   "id": "d9399b15",
   "metadata": {},
   "outputs": [
    {
     "data": {
      "text/plain": [
       "(75, 5000)"
      ]
     },
     "execution_count": 25,
     "metadata": {},
     "output_type": "execute_result"
    }
   ],
   "source": [
    "vectors.shape"
   ]
  },
  {
   "cell_type": "markdown",
   "id": "ca6aaf37",
   "metadata": {},
   "source": [
    "The 'cv' object contains the 5000 most frequently occurring vectors derived from the 'tag' column."
   ]
  },
  {
   "cell_type": "code",
   "execution_count": 26,
   "id": "4c1edd80",
   "metadata": {},
   "outputs": [
    {
     "data": {
      "text/plain": [
       "array(['00', '000', '004', ..., 'zoukpurple', 'zucchini', 'zz'],\n",
       "      dtype=object)"
      ]
     },
     "execution_count": 26,
     "metadata": {},
     "output_type": "execute_result"
    }
   ],
   "source": [
    "cv.get_feature_names_out()"
   ]
  },
  {
   "cell_type": "code",
   "execution_count": 27,
   "id": "75de6530",
   "metadata": {},
   "outputs": [
    {
     "data": {
      "text/plain": [
       "5000"
      ]
     },
     "execution_count": 27,
     "metadata": {},
     "output_type": "execute_result"
    }
   ],
   "source": [
    "len(cv.get_feature_names_out())"
   ]
  },
  {
   "cell_type": "code",
   "execution_count": 28,
   "id": "a51523f3",
   "metadata": {},
   "outputs": [],
   "source": [
    "from sklearn.metrics.pairwise import cosine_similarity"
   ]
  },
  {
   "cell_type": "markdown",
   "id": "e3184500",
   "metadata": {},
   "source": [
    "Calculating cosine similarity between events."
   ]
  },
  {
   "cell_type": "code",
   "execution_count": 29,
   "id": "4587042d",
   "metadata": {},
   "outputs": [],
   "source": [
    "similarity = cosine_similarity(vectors)"
   ]
  },
  {
   "cell_type": "markdown",
   "id": "4130c495",
   "metadata": {},
   "source": [
    "The event itself have 1 and other gives the correlation with each event."
   ]
  },
  {
   "cell_type": "code",
   "execution_count": 30,
   "id": "8a829dfe",
   "metadata": {},
   "outputs": [
    {
     "data": {
      "text/plain": [
       "array([[1.        , 0.09198344, 0.10349129, ..., 0.18401326, 0.17816241,\n",
       "        0.04641363],\n",
       "       [0.09198344, 1.        , 0.21228451, ..., 0.07677023, 0.01923433,\n",
       "        0.04080217],\n",
       "       [0.10349129, 0.21228451, 1.        , ..., 0.19476669, 0.08910873,\n",
       "        0.01800268],\n",
       "       ...,\n",
       "       [0.18401326, 0.07677023, 0.19476669, ..., 1.        , 0.11086983,\n",
       "        0.04150419],\n",
       "       [0.17816241, 0.01923433, 0.08910873, ..., 0.11086983, 1.        ,\n",
       "        0.04159452],\n",
       "       [0.04641363, 0.04080217, 0.01800268, ..., 0.04150419, 0.04159452,\n",
       "        1.        ]])"
      ]
     },
     "execution_count": 30,
     "metadata": {},
     "output_type": "execute_result"
    }
   ],
   "source": [
    "similarity "
   ]
  },
  {
   "cell_type": "code",
   "execution_count": 31,
   "id": "334b3dc1",
   "metadata": {},
   "outputs": [
    {
     "data": {
      "text/plain": [
       "(75, 75)"
      ]
     },
     "execution_count": 31,
     "metadata": {},
     "output_type": "execute_result"
    }
   ],
   "source": [
    "cosine_similarity(vectors).shape"
   ]
  },
  {
   "cell_type": "code",
   "execution_count": 32,
   "id": "46eca245",
   "metadata": {},
   "outputs": [
    {
     "data": {
      "text/plain": [
       "array([1.        , 0.09198344, 0.10349129, 0.27461983, 0.06017185,\n",
       "       0.27275309, 0.19226733, 0.16942667, 0.24442087, 0.13225002,\n",
       "       0.18073219, 0.12570154, 0.16664531, 0.17934711, 0.19706352,\n",
       "       0.19742091, 0.12860975, 0.0720728 , 0.19342383, 0.17476371,\n",
       "       0.1825157 , 0.20291802, 0.19680433, 0.18528404, 0.11187636,\n",
       "       0.16801129, 0.19486065, 0.22661008, 0.20539919, 0.34129358,\n",
       "       0.07263369, 0.15412559, 0.15100182, 0.19966613, 0.13623826,\n",
       "       0.24663217, 0.14122095, 0.15491719, 0.19695536, 0.29301087,\n",
       "       0.20274022, 0.27888521, 0.22968789, 0.12961318, 0.274861  ,\n",
       "       0.2264725 , 0.17016334, 0.21498403, 0.17999751, 0.30862333,\n",
       "       0.07125006, 0.20572077, 0.12460887, 0.19304545, 0.19951524,\n",
       "       0.22251083, 0.23257987, 0.20244293, 0.17180249, 0.13337988,\n",
       "       0.12436348, 0.15396709, 0.26412406, 0.08999178, 0.15425507,\n",
       "       0.12555929, 0.18865238, 0.23497753, 0.30489745, 0.06075184,\n",
       "       0.12967707, 0.09721356, 0.18401326, 0.17816241, 0.04641363])"
      ]
     },
     "execution_count": 32,
     "metadata": {},
     "output_type": "execute_result"
    }
   ],
   "source": [
    "similarity [0]"
   ]
  },
  {
   "cell_type": "markdown",
   "id": "81b82548",
   "metadata": {},
   "source": [
    "Sorting on basis of similarity(i.e cosine distance)"
   ]
  },
  {
   "cell_type": "code",
   "execution_count": 33,
   "id": "27c232b0",
   "metadata": {},
   "outputs": [
    {
     "data": {
      "text/plain": [
       "[0.34129358289216133,\n",
       " 0.3086233327277232,\n",
       " 0.30489744880569275,\n",
       " 0.29301087032015954,\n",
       " 0.27888521108960435]"
      ]
     },
     "execution_count": 33,
     "metadata": {},
     "output_type": "execute_result"
    }
   ],
   "source": [
    "sorted(similarity [0],reverse=True) [1:6]  "
   ]
  },
  {
   "cell_type": "markdown",
   "id": "d383434b",
   "metadata": {},
   "source": [
    "In list format with index sorted acc to similarity not index."
   ]
  },
  {
   "cell_type": "code",
   "execution_count": 34,
   "id": "9efa2d6f",
   "metadata": {},
   "outputs": [
    {
     "data": {
      "text/plain": [
       "[(29, 0.34129358289216133),\n",
       " (49, 0.3086233327277232),\n",
       " (68, 0.30489744880569275),\n",
       " (39, 0.29301087032015954),\n",
       " (41, 0.27888521108960435)]"
      ]
     },
     "execution_count": 34,
     "metadata": {},
     "output_type": "execute_result"
    }
   ],
   "source": [
    "sorted(list(enumerate(similarity[0])),reverse=True , key=lambda x:x[1])[1:6]"
   ]
  },
  {
   "cell_type": "code",
   "execution_count": 35,
   "id": "e1b11060",
   "metadata": {},
   "outputs": [],
   "source": [
    "def recommend(event):\n",
    "    index=df[df['Name']== event].index[0]\n",
    "    event_list=sorted(list(enumerate(similarity[index])),reverse=True , key=lambda x:x[1])[1:6]\n",
    "    \n",
    "    for i in event_list:\n",
    "        print(df.iloc[i[0]].Name)\n",
    "        "
   ]
  },
  {
   "cell_type": "code",
   "execution_count": 36,
   "id": "f6ea8a16",
   "metadata": {},
   "outputs": [
    {
     "name": "stdout",
     "output_type": "stream",
     "text": [
      "The EPIC Countdown NYE 2024  IN THE DOME | Lexus Velodrome\n",
      "NYE 2024 at Mission Navy Yard\n",
      "New Years Eve Party W/ Premium Open Bar\n",
      "Gatsby's Prohibition New Years Eve  Party 2024  at Morgan Manufacturing\n",
      "New Year's Eve Bash with Wicked Peach at Hilton Mystic, Mystic Connecticut\n"
     ]
    }
   ],
   "source": [
    "recommend('NEW YEARS EVE 5 HOURS PREMIUM OPEN BAR AT KATRA')"
   ]
  },
  {
   "cell_type": "code",
   "execution_count": 37,
   "id": "232c6fbf",
   "metadata": {},
   "outputs": [
    {
     "name": "stdout",
     "output_type": "stream",
     "text": [
      "Toast NYE at Bamboo Atlanta | Sun Dec 31 2023 | 9pm- 3am |\n",
      "THE GREATEST NYE ON EARTH 2024 | REVEL ATLANTA\n",
      "TOAST NYE | Sunday December 31 2023 | at Bamboo Atlanta | 21+\n",
      "THE GREATEST NYE ON EARTH NEW YEARS EVE | REVEL ATLANTA\n",
      "ATLANTA’S BIGGEST NEW YEARS EVE ROOFTOP PARTY\n"
     ]
    }
   ],
   "source": [
    "recommend('ROOFTOP WATCH PARTY | SUITE FOOD LOUNGE')"
   ]
  },
  {
   "cell_type": "code",
   "execution_count": 41,
   "id": "aab042e9",
   "metadata": {},
   "outputs": [
    {
     "name": "stdout",
     "output_type": "stream",
     "text": [
      "We Had A Time Last Night 2 Ft Big Yavo Performing Live\n",
      "ATLANTA’S BIGGEST NEW YEARS EVE ROOFTOP PARTY\n",
      "MIDNIGHT SOIRÉE New Year's Eve Party, Presented by SportsLink\n",
      "Quality Control / Sincerely From the Six/ Luving Da Crew  NYE Celebration\n",
      "New Year's Eve Party by Winter Park Events\n"
     ]
    }
   ],
   "source": [
    "recommend('WINTER ZESS 2023')"
   ]
  },
  {
   "cell_type": "code",
   "execution_count": 40,
   "id": "7abbf605",
   "metadata": {},
   "outputs": [
    {
     "data": {
      "text/plain": [
       "'WINTER ZESS 2023'"
      ]
     },
     "execution_count": 40,
     "metadata": {},
     "output_type": "execute_result"
    }
   ],
   "source": [
    "df['Name'][74]"
   ]
  },
  {
   "cell_type": "code",
   "execution_count": null,
   "id": "a2c3f9bc",
   "metadata": {},
   "outputs": [],
   "source": []
  },
  {
   "cell_type": "code",
   "execution_count": null,
   "id": "8587501b",
   "metadata": {},
   "outputs": [],
   "source": []
  }
 ],
 "metadata": {
  "kernelspec": {
   "display_name": "Python 3 (ipykernel)",
   "language": "python",
   "name": "python3"
  },
  "language_info": {
   "codemirror_mode": {
    "name": "ipython",
    "version": 3
   },
   "file_extension": ".py",
   "mimetype": "text/x-python",
   "name": "python",
   "nbconvert_exporter": "python",
   "pygments_lexer": "ipython3",
   "version": "3.10.12"
  }
 },
 "nbformat": 4,
 "nbformat_minor": 5
}
